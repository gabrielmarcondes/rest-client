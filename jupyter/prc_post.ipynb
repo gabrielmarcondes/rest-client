{
 "cells": [
  {
   "cell_type": "markdown",
   "metadata": {},
   "source": [
    "# Consumindo REST APIs em Python\n",
    "\n",
    "## REST APIs\n",
    "\n",
    "REST é um \"estilo\" (e não um padrão) para APIs. Já [falei sobre isso](https://speakerdeck.com/gabrielmarcondes/rest-in-peace) algumas vezes, está cheio de material bom por aí; e se você tiver interesse em construir APIs REST em Python, eu recomendaria o [Django REST Framework](www.django-rest-framework.org/), que tem sido uma das principais ferramentas no meu trabalho nos últimos anos.\n",
    "\n",
    "Vou assumir a partir de agora que o leitor já tenha uma noção ou passado pela experiência de _usar_ uma API REST exposta por terceiros.\n",
    "\n",
    "## Construir URLs\n",
    "\n",
    "O que mais me incomodou quando precisei usar APIs de terceiros foi construir as URLs. Um dos patterns que vi bastante por aí era utilizar uma string BASE_URL e concatenar o nome do recurso à essa string (eventualmente concatenando também as chaves para views de detail). Sempre usando a soma de strings, que é até aceitável para um número pequeno de objetos.\n",
    "\n"
   ]
  },
  {
   "cell_type": "code",
   "execution_count": 2,
   "metadata": {
    "collapsed": true
   },
   "outputs": [],
   "source": [
    "import requests\n",
    "\n",
    "BASE_URL = \"http://localhost/\"\n",
    "\n",
    "def my_function():\n",
    "    # construir a URL\n",
    "    url = BASE_URL + \"resource/\"\n",
    "    # chamar a API via requests\n",
    "    response = requests.get(url)\n",
    "    # fazer algo com o resultado\n",
    "    pass"
   ]
  },
  {
   "cell_type": "markdown",
   "metadata": {},
   "source": [
    "Eu sempre achei isso feio e suscetível a erros, por exemplo a ausência de \"/\" no final das urls ou a duplicação no meio delas. Um outro pattern um pouco melhor que vi era uma classe que centralizava a construção dessas URLs."
   ]
  },
  {
   "cell_type": "code",
   "execution_count": 3,
   "metadata": {
    "collapsed": true
   },
   "outputs": [],
   "source": [
    "import requests\n",
    "\n",
    "\n",
    "class APIConnector:\n",
    "    def __init__(self, base_url):\n",
    "        self.base_url = base_url\n",
    "    \n",
    "    def get_resource_url(self):\n",
    "        return self.base_url + \"resource/\"\n",
    "    \n",
    "    def get_resource_detail_url(self, key):\n",
    "        return self.base_url + \"resource/%s/\" % key\n",
    "    \n",
    "    def get_another_resource_url(self):\n",
    "        return self.base_url + \"another-resource/\"\n",
    "    \n",
    "    def get_resource_detail_url(self, key):\n",
    "        return self.base_url + \"another-resource/%s/\" % key\n",
    "    \n",
    "\n",
    "def my_function():\n",
    "    # instanciar o conector\n",
    "    connector = APIConnector(\"http://localhost\")\n",
    "    # pedir uma URL específica\n",
    "    url = connector.get_resource_detail_url(123)\n",
    "    # chamar a API via requests\n",
    "    response = requests.get(url)\n",
    "    # fazer algo com o resultado\n",
    "    pass\n",
    "    "
   ]
  },
  {
   "cell_type": "markdown",
   "metadata": {},
   "source": [
    "É um padrão melhor, no meu ponto de vista. Centralizar a criação diminui a possibilidade de erros porque diminui o número de trechos do código em que precisamos somar strings.\n",
    "\n",
    "## Minha Proposta\n",
    "\n",
    "Baseei-me neste último pattern pra tentar algo mais elegante ainda. A primeira mudança que eu faria era parar de somar strings e usar o módulo `os` para construir as URLs de modo mais seguro, sem risco de errar a manipulação das barras.\n",
    "\n",
    "Resolvi também não implementar um método para cada tipo de recurso. O nome do recurso seria passado como parâmetro, de preferência como um atributo da classe (no estilo `objeto.atributo`). E uma vez \"dentro\" do recurso, expor os métodos no estilo do Django REST Framework: `list`, `retrieve`, `create`, `update`, `partial_update`, `destroy`.\n",
    "\n",
    "Segue minha implementação."
   ]
  },
  {
   "cell_type": "code",
   "execution_count": 4,
   "metadata": {
    "collapsed": true
   },
   "outputs": [],
   "source": [
    "import os\n",
    "import requests\n",
    "\n",
    "\n",
    "class InvalidParamsException(Exception):\n",
    "    pass\n",
    "\n",
    "\n",
    "class ResourceDriver:\n",
    "    def __init__(self, resource_url, urls_only=False):\n",
    "        self.resource_url = resource_url\n",
    "        self.urls_only = urls_only\n",
    "\n",
    "    def _base_resource_url(self):\n",
    "        return \"%s/\" % (self.resource_url,)\n",
    "\n",
    "    def _detail_resource_url(self, key):\n",
    "        return os.path.join(self.resource_url, str(key), \"\")\n",
    "\n",
    "    def list(self, params=None):\n",
    "        url = self._base_resource_url()\n",
    "        if self.urls_only:\n",
    "            return url\n",
    "        else:\n",
    "            if params:\n",
    "                return requests.get(url, params=params)\n",
    "            else:\n",
    "                return requests.get(url)\n",
    "\n",
    "    def create(self, data=None):\n",
    "        url = self._base_resource_url()\n",
    "        if self.urls_only:\n",
    "            return url\n",
    "        else:\n",
    "            return requests.post(url, data=data)\n",
    "\n",
    "    def retrieve(self, key):\n",
    "        url = self._detail_resource_url(key)\n",
    "        if self.urls_only:\n",
    "            return url\n",
    "        else:\n",
    "            return requests.get(url)\n",
    "\n",
    "    def partial_update(self, key, data=None):\n",
    "        url = self._detail_resource_url(key)\n",
    "        if self.urls_only:\n",
    "            return url\n",
    "        else:\n",
    "            return requests.patch(url, data=data)\n",
    "\n",
    "    def update(self, key, data):\n",
    "        url = self._detail_resource_url(key)\n",
    "        if self.urls_only:\n",
    "            return url\n",
    "        else:\n",
    "            return requests.put(url, data=data)\n",
    "\n",
    "    def destroy(self, key):\n",
    "        url = self._detail_resource_url(key)\n",
    "        if self.urls_only:\n",
    "            return url\n",
    "        else:\n",
    "            return requests.delete(url)\n",
    "\n",
    "\n",
    "class RestClient:\n",
    "    def __init__(self, base_url=None, urls_only=False):\n",
    "        if not base_url:\n",
    "            raise InvalidParamsException(\"base_url is mandatory\")\n",
    "        else:\n",
    "            self.base_url = base_url\n",
    "        self.urls_only = urls_only\n",
    "\n",
    "    def _get_url(self, resource):\n",
    "        return os.path.join(self.base_url, resource)\n",
    "\n",
    "    def __getattr__(self, item):\n",
    "        return ResourceDriver(self._get_url(item), urls_only=self.urls_only)\n",
    "\n",
    "    \n",
    "def use_example():\n",
    "    # instanciar um client\n",
    "    rest_client = RestClient(base_url=\"http://localhost/\")\n",
    "    # chamar diretamente os recursos \n",
    "    list_response = rest_client.resource.list()\n",
    "    detail_response = rest_client.resource.retrieve(123)\n",
    "    post_response = rest_client.resource.create(data={\"field\": \"data\", \"other_field\": \"more_data\"})\n",
    "    patch_response = rest_client.resource.partial_update(123, data={\"field\": \"data\"})\n",
    "    update_response = rest_client.resource.update(123, data={\"field\": \"data\", \"other_field\": \"more_data\"})\n",
    "    delete_response = rest_client.resource.destroy(123)\n",
    "    # resource pode ser qualquer coisa, o método __getattr__ tratará o que vier\n",
    "    list_response = rest_client.users.list()\n",
    "    # caso o nome do recurso tenha caracteres não-usuais (como um sinal de menos)\n",
    "    list_response = getattr(rest_client, \"algo-bizarro\").list()\n"
   ]
  },
  {
   "cell_type": "markdown",
   "metadata": {},
   "source": [
    "O código é bem simples! Usei o método especial `__getattr__` para, qualquer que seja o atributo pedido, retornar um `ResourceDriver` que manipule aquele nome como o nome de um recurso. Esta classe mapeia em seguida os métodos pedidos para os métodos da lib `requests`, construindo as URLs conforme necessário usando o módulo `os` e assim evitando o risco de uma URL mal-formada.\n",
    "\n",
    "Criei uma opção `urls_only` que não faz as chamadas, apenas retorna as URLs construídas.\n",
    "\n",
    "Coloquei este código num [repo do github](https://github.com/gabrielmarcondes/rest-client), onde também estão incluídos testes, que abordam alguns casos variados como recursos com hífen no nome e url base com ou sem barra no final.\n",
    "\n",
    "## Trabalho a Fazer\n",
    "\n",
    "Provavelmente usarei esse código em alguns projetinhos futuros. E pra isso ainda tem muita coisa pra fazer nele. Um caso que já vem na cabeça é recurso dentro de recurso, como uma URL `http://localhost/recurso/1/outro-recurso/3` para acessar detalhes de atributos, por exemplo. Talvez um método `__getattr__` dentro da própria classe `ResourceDriver` sirva para esse trabalho. \n",
    "\n",
    "Aceito contribuições e palpites!"
   ]
  },
  {
   "cell_type": "code",
   "execution_count": null,
   "metadata": {
    "collapsed": true
   },
   "outputs": [],
   "source": []
  }
 ],
 "metadata": {
  "kernelspec": {
   "display_name": "Python 3",
   "language": "python",
   "name": "python3"
  },
  "language_info": {
   "codemirror_mode": {
    "name": "ipython",
    "version": 3
   },
   "file_extension": ".py",
   "mimetype": "text/x-python",
   "name": "python",
   "nbconvert_exporter": "python",
   "pygments_lexer": "ipython3",
   "version": "3.5.2"
  }
 },
 "nbformat": 4,
 "nbformat_minor": 1
}
